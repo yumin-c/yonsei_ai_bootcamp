{
 "cells": [
  {
   "cell_type": "code",
   "execution_count": 19,
   "id": "f17f3c76-e0e7-468e-8e27-ea088b24590f",
   "metadata": {},
   "outputs": [],
   "source": [
    "import pandas as pd\n",
    "train = pd.read_csv('train.csv')\n",
    "test = pd.read_csv('test.csv')\n",
    "submission = pd.read_csv('sample_submission.csv')"
   ]
  },
  {
   "cell_type": "markdown",
   "id": "19ca8a61-a512-4dfe-9e64-6e1017e2c91c",
   "metadata": {},
   "source": [
    "## 1. 데이터 전처리\n",
    "### 1) 데이터셋 크기 확인"
   ]
  },
  {
   "cell_type": "code",
   "execution_count": 20,
   "id": "42e8a62c-6bda-41e1-8a86-521dddb1dfd1",
   "metadata": {},
   "outputs": [
    {
     "name": "stdout",
     "output_type": "stream",
     "text": [
      "(6036000, 8)\n",
      "(4024000, 7)\n",
      "(4024000, 2)\n"
     ]
    }
   ],
   "source": [
    "print(train.shape)\n",
    "print(test.shape)\n",
    "print(submission.shape)"
   ]
  },
  {
   "cell_type": "markdown",
   "id": "c1052596-d307-49e5-ac46-3e7165c463c6",
   "metadata": {},
   "source": [
    "### 2) R, C, u_in 정규화\n",
    "연속변수인 'R, C, u_in'을 StandardScaler를 이용해 정규화한다."
   ]
  },
  {
   "cell_type": "code",
   "execution_count": 21,
   "id": "1b650e61-7b54-4bdf-bcfd-faf28fc08f2c",
   "metadata": {},
   "outputs": [
    {
     "data": {
      "text/plain": [
       "StandardScaler()"
      ]
     },
     "execution_count": 21,
     "metadata": {},
     "output_type": "execute_result"
    }
   ],
   "source": [
    "from sklearn.preprocessing import StandardScaler\n",
    "scaler = StandardScaler()\n",
    "scaler.fit(train[['R', 'C', 'u_in']])"
   ]
  },
  {
   "cell_type": "code",
   "execution_count": 22,
   "id": "4abe9e2b-e395-4dc2-bc63-9e25699a685f",
   "metadata": {},
   "outputs": [],
   "source": [
    "train[['R', 'C', 'u_in']] = scaler.transform(train[['R', 'C', 'u_in']])\n",
    "test[['R', 'C', 'u_in']] = scaler.transform(test[['R', 'C', 'u_in']])"
   ]
  },
  {
   "cell_type": "markdown",
   "id": "d0d0e5f4-178c-46ec-9547-c341714890b1",
   "metadata": {},
   "source": [
    "## 2. PyTorch 적용\n",
    "딥러닝 프레임워크인 PyTorch를 import한다."
   ]
  },
  {
   "cell_type": "code",
   "execution_count": 25,
   "id": "062ba237-8e5f-451e-b35f-8b10d6218154",
   "metadata": {},
   "outputs": [],
   "source": [
    "import torch\n",
    "import torch.nn as nn\n",
    "import torch.optim as optim\n",
    "import numpy as np"
   ]
  },
  {
   "cell_type": "code",
   "execution_count": 26,
   "id": "00766cae-7245-4737-b760-72b00335383d",
   "metadata": {},
   "outputs": [],
   "source": [
    "X_train = train.iloc[:, 2:7] # 2~6번째 feature: [R, C, time_step, u_in, u_out]\n",
    "y_train = train.iloc[:, 7] # 7번째 feature: pressure (target)"
   ]
  },
  {
   "cell_type": "markdown",
   "id": "294f0fa0-bb30-4b29-8afb-25414c3846c5",
   "metadata": {},
   "source": [
    "torch가 연산 가능한 Tensor 데이터타입으로 변환한다."
   ]
  },
  {
   "cell_type": "code",
   "execution_count": 27,
   "id": "88c8e6d8-6b45-4708-ac30-151d5c4caac3",
   "metadata": {},
   "outputs": [],
   "source": [
    "X_train = torch.tensor(X_train.to_numpy(), dtype=torch.float32, device='cuda:0')\n",
    "y_train = torch.tensor(y_train.to_numpy(), dtype=torch.float32, device='cuda:0')"
   ]
  },
  {
   "cell_type": "markdown",
   "id": "c962a691-012e-41c2-8ef1-6dea257d824a",
   "metadata": {},
   "source": [
    "순서대로 80개씩 하나의 호흡을 나타내는 자료이므로, 자료의 형태를 75450 x 80 x 5로 변환한다."
   ]
  },
  {
   "cell_type": "code",
   "execution_count": 28,
   "id": "364e8012-b217-4112-bbfd-fc919276cb82",
   "metadata": {},
   "outputs": [],
   "source": [
    "X_train_reshaped = X_train.reshape((6036000//80, 80, 5))\n",
    "y_train_reshaped = y_train.reshape((6036000//80, 80))"
   ]
  },
  {
   "cell_type": "markdown",
   "id": "d1ce7324-1e87-4c10-bcd1-132714769b66",
   "metadata": {},
   "source": [
    "학습 도중 성능평가를 위해 train set을 train/valid set로 분할한다."
   ]
  },
  {
   "cell_type": "code",
   "execution_count": 29,
   "id": "65585ae6-ebd1-4f6b-b704-f320993e9661",
   "metadata": {},
   "outputs": [],
   "source": [
    "from sklearn.model_selection import train_test_split\n",
    "X_train, X_valid, y_train, y_valid = train_test_split(X_train_reshaped, y_train_reshaped, test_size=0.2, random_state=216)"
   ]
  },
  {
   "cell_type": "code",
   "execution_count": 30,
   "id": "5d287656-f433-4601-80de-75f521eaf522",
   "metadata": {},
   "outputs": [],
   "source": [
    "train_dataset = torch.utils.data.TensorDataset(X_train, y_train)\n",
    "valid_dataset = torch.utils.data.TensorDataset(X_valid, y_valid)"
   ]
  },
  {
   "cell_type": "markdown",
   "id": "cc21bf5a-137c-4bb9-9619-efa4370d9e6b",
   "metadata": {},
   "source": [
    "### 2) 뉴럴 네트워크 정의\n",
    "아래의 방법으로 LSTM과 두 층의 Linear layer로 구성된 뉴럴네트워크를 정의한다."
   ]
  },
  {
   "cell_type": "code",
   "execution_count": 208,
   "id": "a318ea20-a95e-492b-b596-366f7e85b61a",
   "metadata": {},
   "outputs": [],
   "source": [
    "class Net(nn.Module):\n",
    "\n",
    "    def __init__(self):\n",
    "        super(Net, self).__init__()\n",
    "        self.lstm = nn.LSTM(5, 512, 2, batch_first=True, bidirectional=True)\n",
    "        self.mlp = nn.Sequential(\n",
    "            nn.Linear(2 * 512, 256, bias=False),\n",
    "            nn.ReLU(),\n",
    "            nn.Linear(256, 1),\n",
    "        )\n",
    "\n",
    "    def forward(self, x):\n",
    "        x, _ = self.lstm(x)\n",
    "        x = self.mlp(x)\n",
    "\n",
    "        return x"
   ]
  },
  {
   "cell_type": "markdown",
   "id": "a29a268e-8219-4f7b-9bcf-f58ef7550244",
   "metadata": {},
   "source": [
    "n_epochs: 데이터셋 반복 학습 횟수 \\\n",
    "learning_rate: 학습 속도"
   ]
  },
  {
   "cell_type": "code",
   "execution_count": 210,
   "id": "39bb0e55-0381-4365-8255-2702da5847ff",
   "metadata": {},
   "outputs": [],
   "source": [
    "n_epochs = 100\n",
    "learning_rate = 1e-3"
   ]
  },
  {
   "cell_type": "markdown",
   "id": "55ee8563-9da3-4c5b-99d3-f3160dc1848d",
   "metadata": {},
   "source": [
    "- MSE (Mean squared error) 를 최적화하는 방향으로 학습을 진행하였음.\n",
    "- Adam optimizer (수정된 경사하강법) 을 적용하여 학습함.\n",
    "- Learning rate는 Cosine annealing을 적용해 미세 조정함."
   ]
  },
  {
   "cell_type": "code",
   "execution_count": 211,
   "id": "4d5a6bec-f05d-4bcb-884e-87c0ed059307",
   "metadata": {},
   "outputs": [],
   "source": [
    "model = Net()\n",
    "model.to('cuda:0')\n",
    "criterion = nn.MSELoss()\n",
    "optimizer = optim.Adam(model.parameters(), lr=learning_rate)\n",
    "scheduler = optim.lr_scheduler.CosineAnnealingWarmRestarts(\n",
    "            optimizer, T_0=n_epochs//2, T_mult=1, eta_min=learning_rate/100)"
   ]
  },
  {
   "cell_type": "code",
   "execution_count": 212,
   "id": "902cfb74-d546-4a40-ad8a-2221ea327675",
   "metadata": {},
   "outputs": [],
   "source": [
    "train_loader = torch.utils.data.DataLoader(train_dataset, batch_size=1024, shuffle=True, drop_last=True)\n",
    "valid_loader = torch.utils.data.DataLoader(valid_dataset, batch_size=1024, shuffle=False)"
   ]
  },
  {
   "cell_type": "code",
   "execution_count": 213,
   "id": "369d5f45-c0f5-4732-ad32-bb028afa7cd3",
   "metadata": {},
   "outputs": [
    {
     "name": "stdout",
     "output_type": "stream",
     "text": [
      "EPOCH: 1\n",
      "[E 001/100] : 58.5476 | 19.1308\n",
      "EPOCH: 2\n",
      "[E 002/100] : 11.5614 | 7.1348\n",
      "EPOCH: 3\n",
      "[E 003/100] : 7.9750 | 5.4423\n",
      "EPOCH: 4\n",
      "[E 004/100] : 4.3818 | 3.4007\n",
      "EPOCH: 5\n",
      "[E 005/100] : 2.9196 | 2.5542\n",
      "EPOCH: 6\n",
      "[E 006/100] : 2.3164 | 1.8885\n",
      "EPOCH: 7\n",
      "[E 007/100] : 1.9419 | 1.6925\n",
      "EPOCH: 8\n",
      "[E 008/100] : 1.6205 | 1.5556\n",
      "EPOCH: 9\n",
      "[E 009/100] : 1.4272 | 1.3002\n",
      "EPOCH: 10\n",
      "[E 010/100] : 1.7974 | 2.2457\n",
      "EPOCH: 11\n",
      "[E 011/100] : 1.7172 | 1.5518\n",
      "EPOCH: 12\n",
      "[E 012/100] : 1.5978 | 1.3487\n",
      "EPOCH: 13\n",
      "[E 013/100] : 1.2541 | 1.2183\n",
      "EPOCH: 14\n",
      "[E 014/100] : 1.1403 | 1.0964\n",
      "EPOCH: 15\n",
      "[E 015/100] : 1.0574 | 1.0489\n",
      "EPOCH: 16\n",
      "[E 016/100] : 1.2908 | 1.3095\n",
      "EPOCH: 17\n",
      "[E 017/100] : 1.1025 | 0.9800\n",
      "EPOCH: 18\n",
      "[E 018/100] : 0.9719 | 0.9408\n",
      "EPOCH: 19\n",
      "[E 019/100] : 0.9332 | 0.9010\n",
      "EPOCH: 20\n",
      "[E 020/100] : 0.8612 | 0.9344\n",
      "EPOCH: 21\n",
      "[E 021/100] : 0.9737 | 0.8638\n",
      "EPOCH: 22\n",
      "[E 022/100] : 0.8570 | 0.7669\n",
      "EPOCH: 23\n",
      "[E 023/100] : 0.8047 | 0.7850\n",
      "EPOCH: 24\n",
      "[E 024/100] : 0.7536 | 0.7500\n",
      "EPOCH: 25\n",
      "[E 025/100] : 0.7308 | 0.7507\n",
      "EPOCH: 26\n",
      "[E 026/100] : 0.7341 | 0.7561\n",
      "EPOCH: 27\n",
      "[E 027/100] : 0.8624 | 1.0178\n",
      "EPOCH: 28\n",
      "[E 028/100] : 0.7785 | 0.8551\n",
      "EPOCH: 29\n",
      "[E 029/100] : 0.7024 | 0.6922\n",
      "EPOCH: 30\n",
      "[E 030/100] : 0.7055 | 0.6577\n",
      "EPOCH: 31\n",
      "[E 031/100] : 0.6560 | 0.7257\n",
      "EPOCH: 32\n",
      "[E 032/100] : 0.6294 | 0.6565\n",
      "EPOCH: 33\n",
      "[E 033/100] : 0.5927 | 0.6002\n",
      "EPOCH: 34\n",
      "[E 034/100] : 0.7095 | 0.7813\n",
      "EPOCH: 35\n",
      "[E 035/100] : 0.6178 | 0.6860\n",
      "EPOCH: 36\n",
      "[E 036/100] : 0.7271 | 1.0926\n",
      "EPOCH: 37\n",
      "[E 037/100] : 0.6907 | 0.6842\n",
      "EPOCH: 38\n",
      "[E 038/100] : 0.5684 | 0.5583\n",
      "EPOCH: 39\n",
      "[E 039/100] : 0.5848 | 0.5833\n",
      "EPOCH: 40\n",
      "[E 040/100] : 0.5464 | 0.5653\n",
      "EPOCH: 41\n",
      "[E 041/100] : 0.5189 | 0.5198\n",
      "EPOCH: 42\n",
      "[E 042/100] : 0.5122 | 0.5548\n",
      "EPOCH: 43\n",
      "[E 043/100] : 0.5089 | 0.5215\n",
      "EPOCH: 44\n",
      "[E 044/100] : 0.4925 | 0.5432\n",
      "EPOCH: 45\n",
      "[E 045/100] : 0.4872 | 0.5355\n",
      "EPOCH: 46\n",
      "[E 046/100] : 0.4931 | 0.5366\n",
      "EPOCH: 47\n",
      "[E 047/100] : 0.5696 | 0.5741\n",
      "EPOCH: 48\n",
      "[E 048/100] : 0.5225 | 0.5451\n",
      "EPOCH: 49\n",
      "[E 049/100] : 0.4619 | 0.4793\n",
      "EPOCH: 50\n",
      "[E 050/100] : 0.4642 | 0.4887\n",
      "EPOCH: 51\n",
      "[E 051/100] : 0.4900 | 0.5415\n",
      "EPOCH: 52\n",
      "[E 052/100] : 0.4948 | 0.6321\n",
      "EPOCH: 53\n",
      "[E 053/100] : 0.4549 | 0.6025\n",
      "EPOCH: 54\n",
      "[E 054/100] : 0.4603 | 0.4567\n",
      "EPOCH: 55\n",
      "[E 055/100] : 0.4258 | 0.4550\n",
      "EPOCH: 56\n",
      "[E 056/100] : 0.4418 | 0.4416\n",
      "EPOCH: 57\n",
      "[E 057/100] : 0.4178 | 0.4451\n",
      "EPOCH: 58\n",
      "[E 058/100] : 0.3899 | 0.4139\n",
      "EPOCH: 59\n",
      "[E 059/100] : 0.4217 | 0.4275\n",
      "EPOCH: 60\n",
      "[E 060/100] : 0.3852 | 0.4053\n",
      "EPOCH: 61\n",
      "[E 061/100] : 0.3730 | 0.4039\n",
      "EPOCH: 62\n",
      "[E 062/100] : 0.3681 | 0.4228\n",
      "EPOCH: 63\n",
      "[E 063/100] : 0.3833 | 0.4185\n",
      "EPOCH: 64\n",
      "[E 064/100] : 0.3785 | 0.3986\n",
      "EPOCH: 65\n",
      "[E 065/100] : 0.3550 | 0.4078\n",
      "EPOCH: 66\n",
      "[E 066/100] : 0.3579 | 0.3750\n",
      "EPOCH: 67\n",
      "[E 067/100] : 0.3773 | 0.3790\n",
      "EPOCH: 68\n",
      "[E 068/100] : 0.3476 | 0.3816\n",
      "EPOCH: 69\n",
      "[E 069/100] : 0.3519 | 0.4139\n",
      "EPOCH: 70\n",
      "[E 070/100] : 0.3379 | 0.4049\n",
      "EPOCH: 71\n",
      "[E 071/100] : 0.8036 | 0.5536\n",
      "EPOCH: 72\n",
      "[E 072/100] : 0.5401 | 0.6299\n",
      "EPOCH: 73\n",
      "[E 073/100] : 0.5397 | 0.5329\n",
      "EPOCH: 74\n",
      "[E 074/100] : 0.3755 | 0.3743\n",
      "EPOCH: 75\n",
      "[E 075/100] : 0.3345 | 0.3695\n",
      "EPOCH: 76\n",
      "[E 076/100] : 0.3211 | 0.3491\n",
      "EPOCH: 77\n",
      "[E 077/100] : 0.3097 | 0.3458\n",
      "EPOCH: 78\n",
      "[E 078/100] : 0.3088 | 0.3413\n",
      "EPOCH: 79\n",
      "[E 079/100] : 0.2964 | 0.3345\n",
      "EPOCH: 80\n",
      "[E 080/100] : 0.2915 | 0.3393\n",
      "EPOCH: 81\n",
      "[E 081/100] : 0.3242 | 0.3284\n",
      "EPOCH: 82\n",
      "[E 082/100] : 0.2964 | 0.3326\n",
      "EPOCH: 83\n",
      "[E 083/100] : 0.2931 | 0.3371\n",
      "EPOCH: 84\n",
      "[E 084/100] : 0.2810 | 0.3195\n",
      "EPOCH: 85\n",
      "[E 085/100] : 0.2935 | 0.3216\n",
      "EPOCH: 86\n",
      "[E 086/100] : 0.2750 | 0.3195\n",
      "EPOCH: 87\n",
      "[E 087/100] : 0.2853 | 0.3200\n",
      "EPOCH: 88\n",
      "[E 088/100] : 0.2716 | 0.3379\n",
      "EPOCH: 89\n",
      "[E 089/100] : 0.2728 | 0.3177\n",
      "EPOCH: 90\n",
      "[E 090/100] : 0.3049 | 0.3364\n",
      "EPOCH: 91\n",
      "[E 091/100] : 0.2685 | 0.3318\n",
      "EPOCH: 92\n",
      "[E 092/100] : 0.2654 | 0.3108\n",
      "EPOCH: 93\n",
      "[E 093/100] : 0.2524 | 0.2936\n",
      "EPOCH: 94\n",
      "[E 094/100] : 0.2477 | 0.3386\n",
      "EPOCH: 95\n",
      "[E 095/100] : 0.2766 | 0.3109\n",
      "EPOCH: 96\n",
      "[E 096/100] : 0.2439 | 0.2928\n",
      "EPOCH: 97\n",
      "[E 097/100] : 0.2409 | 0.2944\n",
      "EPOCH: 98\n",
      "[E 098/100] : 0.3988 | 0.3993\n",
      "EPOCH: 99\n",
      "[E 099/100] : 0.2638 | 0.2832\n",
      "EPOCH: 100\n",
      "[E 100/100] : 0.2432 | 0.2863\n"
     ]
    }
   ],
   "source": [
    "for epoch in range(n_epochs):\n",
    "    print(\"EPOCH: {}\".format(epoch+1))\n",
    "    train_loss = []\n",
    "    train_count = 0\n",
    "\n",
    "    model.train()\n",
    "    for i, (x, y) in enumerate(train_loader):\n",
    "        pred = model(x).flatten()\n",
    "        loss = criterion(pred, y.flatten())\n",
    "\n",
    "        optimizer.zero_grad()\n",
    "        loss.backward()\n",
    "        optimizer.step()\n",
    "\n",
    "        train_loss.append(x.size(0) * loss.detach().cpu().numpy())\n",
    "        train_count += x.size(0)\n",
    "\n",
    "    model.eval()\n",
    "\n",
    "    pred_, y_ = None, None\n",
    "\n",
    "    with torch.no_grad():\n",
    "        for i, (x, y) in enumerate(valid_loader):\n",
    "            pred = model(x).flatten()\n",
    "\n",
    "            if pred_ is None:\n",
    "                pred_ = pred.detach().cpu().numpy()\n",
    "                y_ = y.detach().cpu().numpy()\n",
    "            else:\n",
    "                pred_ = np.concatenate((pred_, pred.detach().cpu().numpy()))\n",
    "                y_ = np.concatenate((y_, y.detach().cpu().numpy()))\n",
    "        \n",
    "    valid_loss = criterion(torch.tensor(pred_), torch.tensor(y_).flatten())\n",
    "    train_loss = sum(train_loss) / train_count\n",
    "\n",
    "    print('[E {:03}/{:03}] : {:.4f} | {:.4f}'.format(epoch + 1, n_epochs, train_loss, valid_loss))"
   ]
  },
  {
   "cell_type": "code",
   "execution_count": 215,
   "id": "b025aa84-b71a-417b-b254-abc05456fcfa",
   "metadata": {},
   "outputs": [],
   "source": [
    "X_test = test.iloc[:, 2:7]\n",
    "X_test = torch.tensor(X_test.to_numpy(), dtype=torch.float32, device='cuda:0')\n",
    "X_test_reshaped = X_test.reshape((4024000//80, 80, 5))\n",
    "test_loader = torch.utils.data.DataLoader(X_test_reshaped, batch_size=1024, shuffle=False)"
   ]
  },
  {
   "cell_type": "code",
   "execution_count": 216,
   "id": "e730de7a-3e74-4577-b039-e3c332eadca0",
   "metadata": {},
   "outputs": [],
   "source": [
    "with torch.no_grad():\n",
    "    final_pred = None\n",
    "    \n",
    "    for i, x in enumerate(test_loader):\n",
    "        pred = model(x).flatten()\n",
    "\n",
    "        if final_pred is None:\n",
    "            final_pred = pred.detach().cpu().numpy()\n",
    "        else:\n",
    "            final_pred = np.concatenate((final_pred, pred.detach().cpu().numpy()))"
   ]
  },
  {
   "cell_type": "code",
   "execution_count": 217,
   "id": "10411ae1-d67f-4263-90b5-e95e80b4941c",
   "metadata": {},
   "outputs": [
    {
     "data": {
      "text/plain": [
       "(4024000,)"
      ]
     },
     "execution_count": 217,
     "metadata": {},
     "output_type": "execute_result"
    }
   ],
   "source": [
    "final_pred.shape"
   ]
  },
  {
   "cell_type": "code",
   "execution_count": 218,
   "id": "3589a350-f074-4ec1-b645-af7cb3bdd22e",
   "metadata": {},
   "outputs": [],
   "source": [
    "final_pred = np.round(final_pred, 4)"
   ]
  },
  {
   "cell_type": "code",
   "execution_count": 219,
   "id": "859182ea-3c32-4970-be88-c3d75c7a24a2",
   "metadata": {},
   "outputs": [],
   "source": [
    "submission.pressure = final_pred"
   ]
  },
  {
   "cell_type": "code",
   "execution_count": 220,
   "id": "9e410abb-7980-4984-9ab3-bb9aeb39da38",
   "metadata": {},
   "outputs": [],
   "source": [
    "submission.to_csv('result_2113.csv', index=False)"
   ]
  },
  {
   "cell_type": "markdown",
   "id": "c2d422d0-a3d9-4aa1-87c4-50fba43e8abf",
   "metadata": {},
   "source": [
    "### validation with 1000 samples"
   ]
  },
  {
   "cell_type": "code",
   "execution_count": 239,
   "id": "2a10c415-2495-4df5-a5c6-d62e943c3eb8",
   "metadata": {},
   "outputs": [
    {
     "data": {
      "image/png": "[encoded data removed]",
      "text/plain": [
       "<Figure size 432x288 with 1 Axes>"
      ]
     },
     "metadata": {
      "needs_background": "light"
     },
     "output_type": "display_data"
    }
   ],
   "source": [
    "import matplotlib.pyplot as plt\n",
    "plt.plot(range(1000), pred_[:1000], label='prediction', alpha=0.5)\n",
    "plt.plot(range(1000), y_.flatten()[:1000], label='ground truth', alpha=1)\n",
    "plt.legend()\n",
    "plt.show()"
   ]
  }
 ],
 "metadata": {
  "kernelspec": {
   "display_name": "Python 3.8 (Pytorch LTS)",
   "language": "python",
   "name": "pytorch_lts"
  },
  "language_info": {
   "codemirror_mode": {
    "name": "ipython",
    "version": 3
   },
   "file_extension": ".py",
   "mimetype": "text/x-python",
   "name": "python",
   "nbconvert_exporter": "python",
   "pygments_lexer": "ipython3",
   "version": "3.8.12"
  }
 },
 "nbformat": 4,
 "nbformat_minor": 5
}
